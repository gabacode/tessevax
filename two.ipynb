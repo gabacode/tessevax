{
 "cells": [
  {
   "cell_type": "code",
   "execution_count": null,
   "id": "def44376",
   "metadata": {},
   "outputs": [],
   "source": [
    "import io\n",
    "import fitz\n",
    "import numpy as np\n",
    "from PIL import Image, ImageOps, ImageFilter, ImageEnhance\n",
    "import pytesseract\n",
    "\n",
    "zoom = 4\n",
    "mat = fitz.Matrix(zoom, zoom)\n",
    "config = r'--oem 3 --psm 12 -c tessedit_char_whitelist=0123456789,%'\n",
    "\n",
    "def read2(file, pageNumber):\n",
    "    pdf = fitz.open(file)\n",
    "    page = pdf.load_page(pageNumber)\n",
    "    pixmap = page.get_pixmap(alpha=False, matrix=mat).tobytes()\n",
    "    image = Image.open(io.BytesIO(pixmap))\n",
    "    invert_im = image.convert(\"RGB\")\n",
    "    invert_im = ImageOps.invert(invert_im)\n",
    "    imageBox = invert_im.getbbox()\n",
    "    cropped = image.crop(imageBox)\n",
    "    aspect_ratio = cropped.height / cropped.width\n",
    "    new_width = 2121\n",
    "    new_height = int(new_width * aspect_ratio)\n",
    "    resized = cropped.resize((new_width, new_height), Image.NEAREST)\n",
    "    print('width:', resized.width, 'height:', resized.height)\n",
    "    \n",
    "    image_arr = np.array(resized)\n",
    "\n",
    "    # Crop image\n",
    "    image_arr = image_arr[730:image.height, 1500:1900]\n",
    "\n",
    "    # Convert array to image\n",
    "    image = Image.fromarray(image_arr)\n",
    "    im2 = image.convert('L')\n",
    "    im2 = im2.filter(ImageFilter.MinFilter(1))\n",
    "    im2 = im2.filter(ImageFilter.SMOOTH_MORE)\n",
    "    #im2 = im2.filter(ImageFilter.SMOOTH_MORE)\n",
    "    enhancer = ImageEnhance.Contrast(im2)\n",
    "    im2 = enhancer.enhance(5)\n",
    "    #im2 = im2.filter(ImageFilter.SHARPEN)\n",
    "    im2 = im2.filter(ImageFilter.SHARPEN)\n",
    "    im2 = im2.filter(ImageFilter.MinFilter(1))\n",
    "    im2 = ImageOps.invert(im2)\n",
    "    enhancer = ImageEnhance.Brightness(im2)\n",
    "    im2 = enhancer.enhance(3)\n",
    "    results = pytesseract.image_to_string(im2, config=config)\n",
    "    print(results)\n",
    "    display(im2)\n",
    "\n",
    "read2('./data/report.pdf', 6)"
   ]
  }
 ],
 "metadata": {
  "kernelspec": {
   "display_name": "Python 3 (ipykernel)",
   "language": "python",
   "name": "python3"
  },
  "language_info": {
   "codemirror_mode": {
    "name": "ipython",
    "version": 3
   },
   "file_extension": ".py",
   "mimetype": "text/x-python",
   "name": "python",
   "nbconvert_exporter": "python",
   "pygments_lexer": "ipython3",
   "version": "3.8.10"
  }
 },
 "nbformat": 4,
 "nbformat_minor": 5
}
