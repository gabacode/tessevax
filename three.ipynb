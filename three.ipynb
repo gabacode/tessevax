{
 "cells": [
  {
   "cell_type": "code",
   "execution_count": 1,
   "id": "49660476",
   "metadata": {},
   "outputs": [],
   "source": [
    "import io\n",
    "import fitz\n",
    "import numpy as np\n",
    "from PIL import Image, ImageOps, ImageFilter, ImageEnhance\n",
    "import pytesseract\n",
    "import pandas as pd"
   ]
  },
  {
   "cell_type": "code",
   "execution_count": 2,
   "id": "29bc7d68",
   "metadata": {},
   "outputs": [],
   "source": [
    "zoom = 4\n",
    "mat = fitz.Matrix(zoom, zoom)\n",
    "config = r'--oem 3 --psm 12 -c tessedit_char_whitelist=0123456789,%'"
   ]
  },
  {
   "cell_type": "code",
   "execution_count": 3,
   "id": "3df09876",
   "metadata": {},
   "outputs": [],
   "source": [
    "def resize(image):\n",
    "    '''Resize all pages to the same size'''\n",
    "    invert_im = image.convert(\"RGB\")\n",
    "    invert_im = ImageOps.invert(invert_im)\n",
    "    imageBox = invert_im.getbbox()\n",
    "    cropped = image.crop(imageBox)\n",
    "    aspect_ratio = cropped.height / cropped.width\n",
    "    new_width = 2121\n",
    "    new_height = int(new_width * aspect_ratio)\n",
    "    resized = cropped.resize((new_width, new_height), Image.NEAREST)\n",
    "    #print('width:', resized.width, 'height:', resized.height)\n",
    "    resized_image = np.array(resized)\n",
    "    return resized_image\n",
    "\n",
    "def prepare(image):\n",
    "    '''Process Images to make them more readable'''\n",
    "    image = image.convert('L')\n",
    "    image = image.filter(ImageFilter.SMOOTH_MORE)\n",
    "    image = ImageOps.invert(image)\n",
    "    brightness = ImageEnhance.Brightness(image)\n",
    "    image = brightness.enhance(1.2)\n",
    "    return image"
   ]
  },
  {
   "cell_type": "code",
   "execution_count": null,
   "id": "f4b0e898",
   "metadata": {},
   "outputs": [],
   "source": [
    "values = []\n",
    "\n",
    "def read(file, pageNumber):\n",
    "    '''Read pages from a PDF file'''\n",
    "    global values\n",
    "    pdf = fitz.open(file)\n",
    "    page = pdf.load_page(pageNumber)\n",
    "    pixmap = page.get_pixmap(alpha=False, matrix=mat).tobytes()\n",
    "    image = Image.open(io.BytesIO(pixmap))\n",
    "    resized = resize(image)\n",
    "    \n",
    "    numbers_column = resized[730:image.height*2, 1500:1900]\n",
    "    numbers_column_image = Image.fromarray(numbers_column)\n",
    "    processed_image = prepare(numbers_column_image)\n",
    "    results = pytesseract.image_to_string(processed_image, config=config).split('\\n')\n",
    "    \n",
    "    out = [i for i in results if i]\n",
    "    out.remove('\\x0c')\n",
    "    out = [value.replace(',', '.').replace('%', '') for value in out]\n",
    "    out = out[:-2]\n",
    "\n",
    "    it = iter(out)\n",
    "    data = list(zip(it, it))\n",
    "    for tuple_ in data:\n",
    "        values.append(tuple_)"
   ]
  },
  {
   "cell_type": "code",
   "execution_count": null,
   "id": "f82436e9",
   "metadata": {},
   "outputs": [],
   "source": [
    "for i in range(0, 9):\n",
    "    read('./data/report.pdf', i)\n",
    "\n",
    "df = pd.DataFrame(values, columns=['prima_dose', 'seconda_dose'])\n",
    "\n",
    "print(len(values), 'comuni')\n",
    "\n",
    "df"
   ]
  },
  {
   "cell_type": "code",
   "execution_count": null,
   "id": "3a92f590",
   "metadata": {},
   "outputs": [],
   "source": []
  },
  {
   "cell_type": "code",
   "execution_count": null,
   "id": "5ece3462",
   "metadata": {},
   "outputs": [],
   "source": []
  }
 ],
 "metadata": {
  "kernelspec": {
   "display_name": "Python 3 (ipykernel)",
   "language": "python",
   "name": "python3"
  },
  "language_info": {
   "codemirror_mode": {
    "name": "ipython",
    "version": 3
   },
   "file_extension": ".py",
   "mimetype": "text/x-python",
   "name": "python",
   "nbconvert_exporter": "python",
   "pygments_lexer": "ipython3",
   "version": "3.8.10"
  }
 },
 "nbformat": 4,
 "nbformat_minor": 5
}
